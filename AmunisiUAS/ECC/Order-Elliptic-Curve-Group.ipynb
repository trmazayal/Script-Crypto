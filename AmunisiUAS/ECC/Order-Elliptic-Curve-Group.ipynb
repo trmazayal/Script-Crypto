{
 "cells": [
  {
   "cell_type": "code",
   "execution_count": 278,
   "id": "0254bfb3",
   "metadata": {},
   "outputs": [],
   "source": [
    "# y^2 = x^3 + a*x + b"
   ]
  },
  {
   "cell_type": "code",
   "execution_count": 279,
   "id": "fb42dadc",
   "metadata": {},
   "outputs": [],
   "source": [
    "import numpy as np\n",
    "import matplotlib.pyplot as plt"
   ]
  },
  {
   "cell_type": "code",
   "execution_count": 280,
   "id": "a3e4c61b",
   "metadata": {},
   "outputs": [],
   "source": [
    "O = (np.inf, np.inf)"
   ]
  },
  {
   "cell_type": "code",
   "execution_count": 281,
   "id": "48638cc0",
   "metadata": {},
   "outputs": [],
   "source": [
    "def add_points(P, Q, p):\n",
    "    xP, yP = P\n",
    "    xQ, yQ = Q\n",
    "    \n",
    "    if xP == xQ and yP == yQ:\n",
    "        beta = (3*xP*xQ + a) * pow(2*yP, -1, p)\n",
    "    else:\n",
    "        beta = (yQ - yP) * pow(xQ - xP, -1, p)\n",
    "    \n",
    "    xR = (beta*beta - xP - xQ) % p\n",
    "    yR = (beta * (xP - xR) - yP) % p\n",
    "    \n",
    "    is_on_curve((xR, yR), p)\n",
    "            \n",
    "    return xR, yR"
   ]
  },
  {
   "cell_type": "code",
   "execution_count": 282,
   "id": "f9d2a551",
   "metadata": {},
   "outputs": [],
   "source": [
    "def add_points_str(P, Q, p):\n",
    "    xP, yP = P\n",
    "    xQ, yQ = Q\n",
    "    \n",
    "    print()\n",
    "    if xP == xQ and yP == yQ:\n",
    "        atas = 3*xP*xQ + a\n",
    "        bawah = 2*yP\n",
    "        alpha = pow(atas,1,p) * pow(bawah, -1, p)\n",
    "        atas_pow = pow(atas,1,p)\n",
    "        inverse = pow(bawah, -1, p)\n",
    "        print(f'alpha = (3*{xP*xP} + {a}) / (2*{yP}) mod {p} = {atas_pow} * {inverse} mod {p} = {alpha}')\n",
    "    else:\n",
    "        atas = yQ - yP\n",
    "        bawah = xQ - xP\n",
    "        alpha = pow(atas,1,p) * pow(bawah, -1, p)\n",
    "        alpha = pow(alpha,1,p)\n",
    "        inverse = pow(bawah, -1, p)\n",
    "        print(f'alpha = ({yQ} - {yP}) / ({xQ} - {xP}) mod {p} = {atas} * {inverse} mod {p} = {alpha}')\n",
    "    \n",
    "    xR = (alpha*alpha - xP - xQ) % p\n",
    "    yR = (alpha * (xP - xR) - yP) % p\n",
    "    print(f\"xR = ({alpha}*{alpha} - {xP} - {xQ}) % {p} = {xR}\")\n",
    "    print(f\"yR = ({alpha} * ({xP} - {xR}) - {yP}) % {p} = {yR}\")\n",
    "    \n",
    "    is_on_curve((xR, yR), p)\n",
    "            \n",
    "    return xR, yR"
   ]
  },
  {
   "cell_type": "code",
   "execution_count": 283,
   "id": "4268455b",
   "metadata": {},
   "outputs": [],
   "source": [
    "def is_on_curve(P, p):\n",
    "    x, y = P\n",
    "    assert (y*y) % p == (pow(x,3,p) + a*x + b) % p"
   ]
  },
  {
   "cell_type": "code",
   "execution_count": 284,
   "id": "08ca8265",
   "metadata": {},
   "outputs": [],
   "source": [
    "# y^2 = x^3 + x + 1\n",
    "# modulo\n",
    "x = 11\n",
    "a = 1\n",
    "b = 6\n",
    "\n",
    "\n",
    "# base point\n",
    "G = (2, 7)\n",
    "\n",
    "p = x"
   ]
  },
  {
   "cell_type": "code",
   "execution_count": 285,
   "id": "71773f46",
   "metadata": {},
   "outputs": [],
   "source": [
    "is_on_curve(G, p)"
   ]
  },
  {
   "cell_type": "code",
   "execution_count": 286,
   "id": "116d9112",
   "metadata": {},
   "outputs": [
    {
     "name": "stdout",
     "output_type": "stream",
     "text": [
      "G = (2, 7)\n",
      "1G = (2, 7)\n",
      "\n",
      "alpha = (3*4 + 1) / (2*7) mod 11 = 2 * 4 mod 11 = 8\n",
      "xR = (8*8 - 2 - 2) % 11 = 5\n",
      "yR = (8 * (2 - 5) - 7) % 11 = 2\n",
      "2G = (5, 2)\n",
      "\n",
      "alpha = (7 - 2) / (2 - 5) mod 11 = 5 * 7 mod 11 = 2\n",
      "xR = (2*2 - 5 - 2) % 11 = 8\n",
      "yR = (2 * (5 - 8) - 2) % 11 = 3\n",
      "3G = (8, 3)\n",
      "\n",
      "alpha = (7 - 3) / (2 - 8) mod 11 = 4 * 9 mod 11 = 3\n",
      "xR = (3*3 - 8 - 2) % 11 = 10\n",
      "yR = (3 * (8 - 10) - 3) % 11 = 2\n",
      "4G = (10, 2)\n",
      "\n",
      "alpha = (7 - 2) / (2 - 10) mod 11 = 5 * 4 mod 11 = 9\n",
      "xR = (9*9 - 10 - 2) % 11 = 3\n",
      "yR = (9 * (10 - 3) - 2) % 11 = 6\n",
      "5G = (3, 6)\n",
      "\n",
      "alpha = (7 - 6) / (2 - 3) mod 11 = 1 * 10 mod 11 = 10\n",
      "xR = (10*10 - 3 - 2) % 11 = 7\n",
      "yR = (10 * (3 - 7) - 6) % 11 = 9\n",
      "6G = (7, 9)\n",
      "\n",
      "alpha = (7 - 9) / (2 - 7) mod 11 = -2 * 2 mod 11 = 7\n",
      "xR = (7*7 - 7 - 2) % 11 = 7\n",
      "yR = (7 * (7 - 7) - 9) % 11 = 2\n",
      "7G = (7, 2)\n",
      "\n",
      "alpha = (7 - 2) / (2 - 7) mod 11 = 5 * 2 mod 11 = 10\n",
      "xR = (10*10 - 7 - 2) % 11 = 3\n",
      "yR = (10 * (7 - 3) - 2) % 11 = 5\n",
      "8G = (3, 5)\n",
      "\n",
      "alpha = (7 - 5) / (2 - 3) mod 11 = 2 * 10 mod 11 = 9\n",
      "xR = (9*9 - 3 - 2) % 11 = 10\n",
      "yR = (9 * (3 - 10) - 5) % 11 = 9\n",
      "9G = (10, 9)\n",
      "\n",
      "alpha = (7 - 9) / (2 - 10) mod 11 = -2 * 4 mod 11 = 3\n",
      "xR = (3*3 - 10 - 2) % 11 = 8\n",
      "yR = (3 * (10 - 8) - 9) % 11 = 8\n",
      "10G = (8, 8)\n",
      "\n",
      "alpha = (7 - 8) / (2 - 8) mod 11 = -1 * 9 mod 11 = 2\n",
      "xR = (2*2 - 8 - 2) % 11 = 5\n",
      "yR = (2 * (8 - 5) - 8) % 11 = 9\n",
      "11G = (5, 9)\n",
      "\n",
      "alpha = (7 - 9) / (2 - 5) mod 11 = -2 * 7 mod 11 = 8\n",
      "xR = (8*8 - 5 - 2) % 11 = 2\n",
      "yR = (8 * (5 - 2) - 9) % 11 = 4\n",
      "12G = (2, 4)\n",
      "\n",
      "13G = (inf, inf)\n"
     ]
    }
   ],
   "source": [
    "points = []\n",
    "print(f\"G = {G}\")\n",
    "points.append(G)\n",
    "current_point = G\n",
    "n = 1\n",
    "while True:\n",
    "    try:\n",
    "        print(f\"{n}G = {current_point}\")\n",
    "        current_point = add_points_str(current_point, G, p)\n",
    "        n += 1\n",
    "        points.append(current_point)\n",
    "    except:\n",
    "        print(f\"{n + 1}G = {O}\")\n",
    "        break"
   ]
  },
  {
   "cell_type": "code",
   "execution_count": 287,
   "id": "ea02caec",
   "metadata": {},
   "outputs": [
    {
     "name": "stdout",
     "output_type": "stream",
     "text": [
      "G = (2, 7)\n",
      "2G = (5, 2)\n",
      "3G = (8, 3)\n",
      "4G = (10, 2)\n",
      "5G = (3, 6)\n",
      "6G = (7, 9)\n",
      "7G = (7, 2)\n",
      "8G = (3, 5)\n",
      "9G = (10, 9)\n",
      "10G = (8, 8)\n",
      "11G = (5, 9)\n",
      "12G = (2, 4)\n",
      "13G = (inf, inf)\n"
     ]
    }
   ],
   "source": [
    "points_dict = {}\n",
    "points = []\n",
    "print(f\"G = {G}\")\n",
    "points_dict[1] = G\n",
    "points.append(G)\n",
    "current_point = G\n",
    "n = 1\n",
    "while True:\n",
    "    try:\n",
    "        current_point = add_points(current_point, G, p)\n",
    "        n += 1\n",
    "        print(f\"{n}G = {current_point}\")\n",
    "        points_dict[n] = current_point\n",
    "        points.append(current_point)\n",
    "    except:\n",
    "        print(f\"{n + 1}G = {O}\")\n",
    "        break"
   ]
  },
  {
   "cell_type": "code",
   "execution_count": 288,
   "id": "9378ebfc",
   "metadata": {},
   "outputs": [
    {
     "data": {
      "text/plain": [
       "(3, 6)"
      ]
     },
     "execution_count": 288,
     "metadata": {},
     "output_type": "execute_result"
    }
   ],
   "source": [
    "# 5 x G = 1 x G\n",
    "add_points(P = (5, 2), Q = (8, 3), p = p)"
   ]
  },
  {
   "cell_type": "code",
   "execution_count": 289,
   "id": "cab7cf97",
   "metadata": {},
   "outputs": [],
   "source": [
    "# 30 x G = 2 x G\n",
    "# add_points(P = (0, 22), Q = (3, 13), p = p)"
   ]
  },
  {
   "cell_type": "code",
   "execution_count": 290,
   "id": "b94b8676",
   "metadata": {},
   "outputs": [
    {
     "data": {
      "image/png": "[encoded data removed]",
      "text/plain": [
       "<Figure size 640x480 with 1 Axes>"
      ]
     },
     "metadata": {},
     "output_type": "display_data"
    }
   ],
   "source": [
    "for point in points:\n",
    "    plt.scatter(point[0], point[1], c = \"blue\")\n",
    "plt.show()"
   ]
  },
  {
   "cell_type": "code",
   "execution_count": 291,
   "id": "d2beb3e4",
   "metadata": {},
   "outputs": [
    {
     "name": "stdout",
     "output_type": "stream",
     "text": [
      "F(11) = 1\n"
     ]
    }
   ],
   "source": [
    "# F(p) = n\n",
    "print(f\"F({p}) = {  +1}\")"
   ]
  },
  {
   "cell_type": "code",
   "execution_count": 292,
   "id": "463e900f",
   "metadata": {},
   "outputs": [
    {
     "name": "stdout",
     "output_type": "stream",
     "text": [
      "Kunci Publik B = 3G = (8, 3)\n"
     ]
    }
   ],
   "source": [
    "# Kunci Rahasia B adalah nB = 3\n",
    "# a. cari kuncio publik B\n",
    "nB = 3\n",
    "\n",
    "\n",
    "\n",
    "Pb = points_dict[nB]\n",
    "print(f'Kunci Publik B = {nB}G = {Pb}')\n"
   ]
  },
  {
   "cell_type": "code",
   "execution_count": 295,
   "id": "cd667758",
   "metadata": {},
   "outputs": [
    {
     "name": "stdout",
     "output_type": "stream",
     "text": [
      "A melakukan enkripsi pesan Pm = (10, 9) dengan nilai random k = 4. Tentukan ciphertext Cm.\n",
      "    Cm = ['4G', '9G + 12G']\n",
      "    Cm = ['4G', '21G']\n",
      "    Cm = ['4G', '8G']\n",
      "    Cm = [(10, 2), (3, 5)]\n"
     ]
    }
   ],
   "source": [
    "# b. A melakukan enkripsi pesan Pm = (10,9) dengan nilai random k = 4. Tentukan ciphertext Cm.\n",
    "# Cm = [kG, Pm + kPb]\n",
    "k = 4\n",
    "Pm = (10,9)\n",
    "\n",
    "\n",
    "\n",
    "kPb = k * nB\n",
    "find = 0\n",
    "# looping Pm and get key\n",
    "for key, value in points_dict.items():\n",
    "    if value == Pm:\n",
    "        find = key\n",
    "        break\n",
    "print(f'A melakukan enkripsi pesan Pm = {Pm} dengan nilai random k = {k}. Tentukan ciphertext Cm.')\n",
    "Cm = [f'{k}G', f'{find}G + {kPb}G']\n",
    "print(f'    Cm = {Cm}')\n",
    "Cm = [f'{k}G', f'{find+kPb}G']\n",
    "print(f'    Cm = {Cm}')\n",
    "find_kPb = (find+kPb) % (n+1)\n",
    "Cm = [f'{k}G', f'{find_kPb}G']\n",
    "print(f'    Cm = {Cm}')\n",
    "X = points_dict[int(Cm[0].replace(\"G\",\"\"))]\n",
    "Y = points_dict[int(Cm[1].replace(\"G\",\"\"))]\n",
    "print(f'    Cm = [{X}, {Y}]')"
   ]
  },
  {
   "cell_type": "code",
   "execution_count": 317,
   "id": "b0875d25",
   "metadata": {},
   "outputs": [
    {
     "name": "stdout",
     "output_type": "stream",
     "text": [
      "X = (10, 2), Y = (3, 5)\n",
      "Decrypt Cm = Y - nB(X)\n",
      "Decrypt Cm = (3, 5) - 3 * (10, 2)\n",
      "Decrypt Cm = 8G - 3 * 4G\n",
      "Decrypt Cm = -4G = 9G\n",
      "           = (10, 9)\n"
     ]
    }
   ],
   "source": [
    "# c. Dekripsi Cm \n",
    "# Y - nb(X)\n",
    "print(f'X = {X}, Y = {Y}')\n",
    "print(f'Decrypt Cm = Y - nB(X)')\n",
    "print(f'Decrypt Cm = {Y} - {nB} * {X}')\n",
    "find_X = 0\n",
    "find_Y = 0\n",
    "# looping Pm and get key\n",
    "for key, value in points_dict.items():\n",
    "    if value == X:\n",
    "        find_X = key\n",
    "    if value == Y:\n",
    "        find_Y = key\n",
    "        break\n",
    "print(f'Decrypt Cm = {find_Y}G - {nB} * {find_X}G')\n",
    "Decrypt_Cm = find_Y - nB * find_X\n",
    "print(f'Decrypt Cm = {Decrypt_Cm}G', end = '')\n",
    "Decrypt_Cm = Decrypt_Cm % (n+1)\n",
    "print(f' = {Decrypt_Cm}G')\n",
    "print(f'           = {points_dict[Decrypt_Cm]}')\n",
    "\n"
   ]
  }
 ],
 "metadata": {
  "kernelspec": {
   "display_name": "Python 3 (ipykernel)",
   "language": "python",
   "name": "python3"
  },
  "language_info": {
   "codemirror_mode": {
    "name": "ipython",
    "version": 3
   },
   "file_extension": ".py",
   "mimetype": "text/x-python",
   "name": "python",
   "nbconvert_exporter": "python",
   "pygments_lexer": "ipython3",
   "version": "3.11.2"
  }
 },
 "nbformat": 4,
 "nbformat_minor": 5
}
